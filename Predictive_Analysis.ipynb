{
  "nbformat": 4,
  "nbformat_minor": 0,
  "metadata": {
    "colab": {
      "provenance": [],
      "authorship_tag": "ABX9TyPKY6vWjm+912VQKx9CjiVM",
      "include_colab_link": true
    },
    "kernelspec": {
      "name": "python3",
      "display_name": "Python 3"
    },
    "language_info": {
      "name": "python"
    }
  },
  "cells": [
    {
      "cell_type": "markdown",
      "metadata": {
        "id": "view-in-github",
        "colab_type": "text"
      },
      "source": [
        "<a href=\"https://colab.research.google.com/github/lokesh89414/Predictive-Analysis/blob/main/Predictive_Analysis.ipynb\" target=\"_parent\"><img src=\"https://colab.research.google.com/assets/colab-badge.svg\" alt=\"Open In Colab\"/></a>"
      ]
    },
    {
      "cell_type": "code",
      "execution_count": 1,
      "metadata": {
        "colab": {
          "base_uri": "https://localhost:8080/"
        },
        "id": "E-WoGRB4uvm3",
        "outputId": "27a48a5e-f42d-4872-8d10-325c2b3cada0"
      },
      "outputs": [
        {
          "output_type": "stream",
          "name": "stdout",
          "text": [
            "Mean Squared Error: 0.17104527280850101\n",
            "R-squared Score: 0.25500281176741757\n",
            "Enter number of pregnancies: 6\n",
            "Enter glucose level: 148\n",
            "Enter blood pressure: 72\n",
            "Enter skin thickness: 35\n",
            "Enter insulin level: 0\n",
            "Enter BMI: 33.6\n",
            "Enter diabetes pedigree function: 0.672\n",
            "Enter age: 51\n",
            "The model predicts that the person has diabetes\n"
          ]
        }
      ],
      "source": [
        "import warnings\n",
        "import pandas as pd\n",
        "from sklearn.model_selection import train_test_split\n",
        "from sklearn.linear_model import LinearRegression\n",
        "from sklearn.preprocessing import StandardScaler\n",
        "from sklearn.metrics import mean_squared_error, r2_score\n",
        "\n",
        "warnings.filterwarnings('ignore')\n",
        "file_path = '/mnt/data/diabetes.csv'\n",
        "diabetes_data = pd.read_csv('diabetes.csv')\n",
        "\n",
        "X = diabetes_data.drop('Outcome', axis=1)\n",
        "y = diabetes_data['Outcome']\n",
        "\n",
        "scaler = StandardScaler()\n",
        "X_scaled = scaler.fit_transform(X)\n",
        "\n",
        "X_train, X_test, y_train, y_test = train_test_split(X_scaled, y, test_size=0.2, random_state=42)\n",
        "\n",
        "lr_model = LinearRegression()\n",
        "lr_model.fit(X_train, y_train)\n",
        "\n",
        "y_pred = lr_model.predict(X_test)\n",
        "\n",
        "mse = mean_squared_error(y_test, y_pred)\n",
        "r2 = r2_score(y_test, y_pred)\n",
        "\n",
        "print(f'Mean Squared Error: {mse}')\n",
        "print(f'R-squared Score: {r2}')\n",
        "\n",
        "def predict_diabetes(user_input):\n",
        "    user_input_scaled = scaler.transform([user_input])\n",
        "    prediction = lr_model.predict(user_input_scaled)\n",
        "    return prediction[0]\n",
        "\n",
        "def get_user_input_and_predict():\n",
        "    pregnancies = int(input(\"Enter number of pregnancies: \"))\n",
        "    glucose = float(input(\"Enter glucose level: \"))\n",
        "    blood_pressure = float(input(\"Enter blood pressure: \"))\n",
        "    skin_thickness = float(input(\"Enter skin thickness: \"))\n",
        "    insulin = float(input(\"Enter insulin level: \"))\n",
        "    bmi = float(input(\"Enter BMI: \"))\n",
        "    diabetes_pedigree_function = float(input(\"Enter diabetes pedigree function: \"))\n",
        "    age = int(input(\"Enter age: \"))\n",
        "\n",
        "    user_input = [pregnancies, glucose, blood_pressure, skin_thickness, insulin, bmi, diabetes_pedigree_function, age]\n",
        "    prediction = predict_diabetes(user_input)\n",
        "    outcome = \"has diabetes\" if prediction >= 0.5 else \"does not have diabetes\"\n",
        "    print(f'The model predicts that the person {outcome}')\n",
        "\n",
        "get_user_input_and_predict()"
      ]
    }
  ]
}